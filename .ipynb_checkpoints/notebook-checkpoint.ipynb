{
 "cells": [
  {
   "cell_type": "markdown",
   "id": "fc61438f-c939-4adb-9feb-f32b41be70e8",
   "metadata": {},
   "source": [
    "![bookstore](bookstore.jpg)\n"
   ]
  },
  {
   "cell_type": "markdown",
   "id": "405dc77e-dfb4-44c5-a686-33ed3e845da1",
   "metadata": {},
   "source": [
    "Identifying popular products is incredibly important for e-commerce companies! Popular products generate more revenue and, therefore, play a key role in stock control.\n",
    "\n",
    "You've been asked to support an online bookstore by building a model to predict whether a book will be popular or not. They've supplied you with an extensive dataset containing information about all books they've sold, including:\n",
    "\n",
    "* `price`\n",
    "* `popularity` (target variable)\n",
    "* `review/summary`\n",
    "* `review/text`\n",
    "* `review/helpfulness`\n",
    "* `authors`\n",
    "* `categories`\n",
    "\n",
    "You'll need to build a model that predicts whether a book will be rated as popular or not.\n",
    "\n",
    "They have high expectations of you, so have set a target of at least 70% accuracy! You are free to use as many features as you like, and will need to engineer new features to achieve this level of performance."
   ]
  },
  {
   "cell_type": "markdown",
   "id": "74477ae3-5d72-41e5-8941-7f7d02f0257e",
   "metadata": {},
   "source": [
    "# Import Libraries"
   ]
  },
  {
   "cell_type": "code",
   "execution_count": 5,
   "id": "5af59cdc-854a-430b-a155-95d023f1931a",
   "metadata": {
    "executionCancelledAt": null,
    "executionTime": 49,
    "lastExecutedAt": 1745501165293,
    "lastExecutedByKernel": "880d8ddc-8443-4dfe-90e6-6ac656048a23",
    "lastScheduledRunId": null,
    "lastSuccessfullyExecutedCode": "import pandas as pd\nimport seaborn as sns\nimport matplotlib.pyplot as plt\nfrom collections import Counter\nfrom sklearn.model_selection import train_test_split\nfrom sklearn.ensemble import RandomForestClassifier\nfrom sklearn.metrics import accuracy_score, classification_report"
   },
   "outputs": [],
   "source": [
    "import pandas as pd\n",
    "import seaborn as sns\n",
    "import matplotlib.pyplot as plt\n",
    "from collections import Counter\n",
    "from sklearn.model_selection import train_test_split\n",
    "from sklearn.ensemble import RandomForestClassifier\n",
    "from sklearn.metrics import accuracy_score, classification_report\n",
    "from sklearn.preprocessing import StandardScaler\n",
    "from sklearn.linear_model import LogisticRegression\n",
    "from sklearn.feature_extraction.text import TfidfVectorizer\n",
    "from sklearn.pipeline import make_pipeline\n",
    "from sklearn.compose import ColumnTransformer\n",
    "from sklearn.preprocessing import LabelEncoder\n",
    "import xgboost as xgb"
   ]
  },
  {
   "cell_type": "markdown",
   "id": "152575d4-8dec-4057-bc68-ea27aaeed2aa",
   "metadata": {},
   "source": [
    "# Read Data"
   ]
  },
  {
   "cell_type": "code",
   "execution_count": 7,
   "id": "a8010c2d-a710-4900-931d-96cc39499b25",
   "metadata": {
    "executionCancelledAt": null,
    "executionTime": 227,
    "lastExecutedAt": 1745501165521,
    "lastExecutedByKernel": "880d8ddc-8443-4dfe-90e6-6ac656048a23",
    "lastScheduledRunId": null,
    "lastSuccessfullyExecutedCode": "# Read in the dataset\nbooks = pd.read_csv(\"data/books.csv\")",
    "outputsMetadata": {
     "0": {
      "height": 50,
      "tableState": {
       "customFilter": {
        "const": {
         "type": "boolean",
         "valid": true,
         "value": true
        },
        "id": "deb5ceb4-f701-4093-be79-bafaea051d59",
        "nodeType": "const"
       }
      },
      "type": "dataFrame"
     }
    }
   },
   "outputs": [],
   "source": [
    "# Read in the dataset\n",
    "books = pd.read_csv(\"data/books.csv\")"
   ]
  },
  {
   "cell_type": "code",
   "execution_count": 8,
   "id": "cd2a8f2a-eb5a-4725-90fc-899016d8816b",
   "metadata": {
    "executionCancelledAt": null,
    "executionTime": 64,
    "lastExecutedAt": 1745501165586,
    "lastExecutedByKernel": "880d8ddc-8443-4dfe-90e6-6ac656048a23",
    "lastScheduledRunId": null,
    "lastSuccessfullyExecutedCode": "books.info()",
    "outputsMetadata": {
     "0": {
      "height": 353,
      "type": "stream"
     }
    }
   },
   "outputs": [
    {
     "name": "stdout",
     "output_type": "stream",
     "text": [
      "<class 'pandas.core.frame.DataFrame'>\n",
      "RangeIndex: 15719 entries, 0 to 15718\n",
      "Data columns (total 9 columns):\n",
      " #   Column              Non-Null Count  Dtype  \n",
      "---  ------              --------------  -----  \n",
      " 0   title               15719 non-null  object \n",
      " 1   price               15719 non-null  float64\n",
      " 2   review/helpfulness  15719 non-null  object \n",
      " 3   review/summary      15718 non-null  object \n",
      " 4   review/text         15719 non-null  object \n",
      " 5   description         15719 non-null  object \n",
      " 6   authors             15719 non-null  object \n",
      " 7   categories          15719 non-null  object \n",
      " 8   popularity          15719 non-null  object \n",
      "dtypes: float64(1), object(8)\n",
      "memory usage: 1.1+ MB\n"
     ]
    }
   ],
   "source": [
    "books.info()"
   ]
  },
  {
   "cell_type": "code",
   "execution_count": 9,
   "id": "bf92e389-e91e-4456-b44a-6090cb2146b2",
   "metadata": {
    "executionCancelledAt": null,
    "executionTime": 62,
    "lastExecutedAt": 1745501165649,
    "lastExecutedByKernel": "880d8ddc-8443-4dfe-90e6-6ac656048a23",
    "lastScheduledRunId": null,
    "lastSuccessfullyExecutedCode": "books.head()",
    "outputsMetadata": {
     "0": {
      "height": 550,
      "tableState": {
       "customFilter": {
        "const": {
         "type": "boolean",
         "valid": true,
         "value": true
        },
        "id": "deb5ceb4-f701-4093-be79-bafaea051d59",
        "nodeType": "const"
       }
      },
      "type": "dataFrame"
     }
    }
   },
   "outputs": [
    {
     "data": {
      "text/html": [
       "<div>\n",
       "<style scoped>\n",
       "    .dataframe tbody tr th:only-of-type {\n",
       "        vertical-align: middle;\n",
       "    }\n",
       "\n",
       "    .dataframe tbody tr th {\n",
       "        vertical-align: top;\n",
       "    }\n",
       "\n",
       "    .dataframe thead th {\n",
       "        text-align: right;\n",
       "    }\n",
       "</style>\n",
       "<table border=\"1\" class=\"dataframe\">\n",
       "  <thead>\n",
       "    <tr style=\"text-align: right;\">\n",
       "      <th></th>\n",
       "      <th>title</th>\n",
       "      <th>price</th>\n",
       "      <th>review/helpfulness</th>\n",
       "      <th>review/summary</th>\n",
       "      <th>review/text</th>\n",
       "      <th>description</th>\n",
       "      <th>authors</th>\n",
       "      <th>categories</th>\n",
       "      <th>popularity</th>\n",
       "    </tr>\n",
       "  </thead>\n",
       "  <tbody>\n",
       "    <tr>\n",
       "      <th>0</th>\n",
       "      <td>We Band of Angels: The Untold Story of America...</td>\n",
       "      <td>10.88</td>\n",
       "      <td>2/3</td>\n",
       "      <td>A Great Book about women in WWII</td>\n",
       "      <td>I have alway been a fan of fiction books set i...</td>\n",
       "      <td>In the fall of 1941, the Philippines was a gar...</td>\n",
       "      <td>'Elizabeth Norman'</td>\n",
       "      <td>'History'</td>\n",
       "      <td>Unpopular</td>\n",
       "    </tr>\n",
       "    <tr>\n",
       "      <th>1</th>\n",
       "      <td>Prayer That Brings Revival: Interceding for Go...</td>\n",
       "      <td>9.35</td>\n",
       "      <td>0/0</td>\n",
       "      <td>Very helpful book for church prayer groups and...</td>\n",
       "      <td>Very helpful book to give you a better prayer ...</td>\n",
       "      <td>In Prayer That Brings Revival, best-selling au...</td>\n",
       "      <td>'Yong-gi Cho'</td>\n",
       "      <td>'Religion'</td>\n",
       "      <td>Unpopular</td>\n",
       "    </tr>\n",
       "    <tr>\n",
       "      <th>2</th>\n",
       "      <td>The Mystical Journey from Jesus to Christ</td>\n",
       "      <td>24.95</td>\n",
       "      <td>17/19</td>\n",
       "      <td>Universal Spiritual Awakening Guide With Some ...</td>\n",
       "      <td>The message of this book is to find yourself a...</td>\n",
       "      <td>THE MYSTICAL JOURNEY FROM JESUS TO CHRIST Disc...</td>\n",
       "      <td>'Muata Ashby'</td>\n",
       "      <td>'Body, Mind &amp; Spirit'</td>\n",
       "      <td>Unpopular</td>\n",
       "    </tr>\n",
       "    <tr>\n",
       "      <th>3</th>\n",
       "      <td>Death Row</td>\n",
       "      <td>7.99</td>\n",
       "      <td>0/1</td>\n",
       "      <td>Ben Kincaid tries to stop an execution.</td>\n",
       "      <td>The hero of William Bernhardt's Ben Kincaid no...</td>\n",
       "      <td>Upon receiving his execution date, one of the ...</td>\n",
       "      <td>'Lynden Harris'</td>\n",
       "      <td>'Social Science'</td>\n",
       "      <td>Unpopular</td>\n",
       "    </tr>\n",
       "    <tr>\n",
       "      <th>4</th>\n",
       "      <td>Sound and Form in Modern Poetry: Second Editio...</td>\n",
       "      <td>32.50</td>\n",
       "      <td>18/20</td>\n",
       "      <td>good introduction to modern prosody</td>\n",
       "      <td>There's a lot in this book which the reader wi...</td>\n",
       "      <td>An updated and expanded version of a classic a...</td>\n",
       "      <td>'Harvey Seymour Gross', 'Robert McDowell'</td>\n",
       "      <td>'Poetry'</td>\n",
       "      <td>Unpopular</td>\n",
       "    </tr>\n",
       "  </tbody>\n",
       "</table>\n",
       "</div>"
      ],
      "text/plain": [
       "                                               title  price  \\\n",
       "0  We Band of Angels: The Untold Story of America...  10.88   \n",
       "1  Prayer That Brings Revival: Interceding for Go...   9.35   \n",
       "2          The Mystical Journey from Jesus to Christ  24.95   \n",
       "3                                          Death Row   7.99   \n",
       "4  Sound and Form in Modern Poetry: Second Editio...  32.50   \n",
       "\n",
       "  review/helpfulness                                     review/summary  \\\n",
       "0                2/3                   A Great Book about women in WWII   \n",
       "1                0/0  Very helpful book for church prayer groups and...   \n",
       "2              17/19  Universal Spiritual Awakening Guide With Some ...   \n",
       "3                0/1            Ben Kincaid tries to stop an execution.   \n",
       "4              18/20                good introduction to modern prosody   \n",
       "\n",
       "                                         review/text  \\\n",
       "0  I have alway been a fan of fiction books set i...   \n",
       "1  Very helpful book to give you a better prayer ...   \n",
       "2  The message of this book is to find yourself a...   \n",
       "3  The hero of William Bernhardt's Ben Kincaid no...   \n",
       "4  There's a lot in this book which the reader wi...   \n",
       "\n",
       "                                         description  \\\n",
       "0  In the fall of 1941, the Philippines was a gar...   \n",
       "1  In Prayer That Brings Revival, best-selling au...   \n",
       "2  THE MYSTICAL JOURNEY FROM JESUS TO CHRIST Disc...   \n",
       "3  Upon receiving his execution date, one of the ...   \n",
       "4  An updated and expanded version of a classic a...   \n",
       "\n",
       "                                     authors             categories popularity  \n",
       "0                         'Elizabeth Norman'              'History'  Unpopular  \n",
       "1                              'Yong-gi Cho'             'Religion'  Unpopular  \n",
       "2                              'Muata Ashby'  'Body, Mind & Spirit'  Unpopular  \n",
       "3                            'Lynden Harris'       'Social Science'  Unpopular  \n",
       "4  'Harvey Seymour Gross', 'Robert McDowell'               'Poetry'  Unpopular  "
      ]
     },
     "execution_count": 9,
     "metadata": {},
     "output_type": "execute_result"
    }
   ],
   "source": [
    "books.head()"
   ]
  },
  {
   "cell_type": "code",
   "execution_count": 10,
   "id": "3e2a8df0-5ecf-4808-80a0-4f7cc319594c",
   "metadata": {
    "executionCancelledAt": null,
    "executionTime": 64,
    "lastExecutedAt": 1745501165713,
    "lastExecutedByKernel": "880d8ddc-8443-4dfe-90e6-6ac656048a23",
    "lastScheduledRunId": null,
    "lastSuccessfullyExecutedCode": "books.tail()",
    "outputsMetadata": {
     "0": {
      "height": 550,
      "tableState": {
       "customFilter": {
        "const": {
         "type": "boolean",
         "valid": true,
         "value": true
        },
        "id": "deb5ceb4-f701-4093-be79-bafaea051d59",
        "nodeType": "const"
       }
      },
      "type": "dataFrame"
     }
    }
   },
   "outputs": [
    {
     "data": {
      "text/html": [
       "<div>\n",
       "<style scoped>\n",
       "    .dataframe tbody tr th:only-of-type {\n",
       "        vertical-align: middle;\n",
       "    }\n",
       "\n",
       "    .dataframe tbody tr th {\n",
       "        vertical-align: top;\n",
       "    }\n",
       "\n",
       "    .dataframe thead th {\n",
       "        text-align: right;\n",
       "    }\n",
       "</style>\n",
       "<table border=\"1\" class=\"dataframe\">\n",
       "  <thead>\n",
       "    <tr style=\"text-align: right;\">\n",
       "      <th></th>\n",
       "      <th>title</th>\n",
       "      <th>price</th>\n",
       "      <th>review/helpfulness</th>\n",
       "      <th>review/summary</th>\n",
       "      <th>review/text</th>\n",
       "      <th>description</th>\n",
       "      <th>authors</th>\n",
       "      <th>categories</th>\n",
       "      <th>popularity</th>\n",
       "    </tr>\n",
       "  </thead>\n",
       "  <tbody>\n",
       "    <tr>\n",
       "      <th>15714</th>\n",
       "      <td>Attack of the Deranged Mutant Killer Monster S...</td>\n",
       "      <td>7.64</td>\n",
       "      <td>0/0</td>\n",
       "      <td>Great for Calvin lovers</td>\n",
       "      <td>Bought as a Christmas gift, great book for kin...</td>\n",
       "      <td>Online: gocomics.com/calvinandhobbes/</td>\n",
       "      <td>'Bill Watterson'</td>\n",
       "      <td>'Comics &amp; Graphic Novels'</td>\n",
       "      <td>Unpopular</td>\n",
       "    </tr>\n",
       "    <tr>\n",
       "      <th>15715</th>\n",
       "      <td>Book Savvy</td>\n",
       "      <td>33.99</td>\n",
       "      <td>2/2</td>\n",
       "      <td>literary pleasure</td>\n",
       "      <td>I thoroughly enjoyed Ms. Katona's Book Savvy. ...</td>\n",
       "      <td>Recounts the adventures of Mibs Beaumont, whos...</td>\n",
       "      <td>'Ingrid Law'</td>\n",
       "      <td>'Juvenile Fiction'</td>\n",
       "      <td>Popular</td>\n",
       "    </tr>\n",
       "    <tr>\n",
       "      <th>15716</th>\n",
       "      <td>Organizing to Win: New Research on Union Strat...</td>\n",
       "      <td>24.95</td>\n",
       "      <td>3/4</td>\n",
       "      <td>Great Book for Union Organizers!</td>\n",
       "      <td>This is a good reference tool for Union Organi...</td>\n",
       "      <td>As the American labour movement mobilizes for ...</td>\n",
       "      <td>'Kate Bronfenbrenner', 'Sheldon Friedman', 'Ri...</td>\n",
       "      <td>'Business &amp; Economics'</td>\n",
       "      <td>Popular</td>\n",
       "    </tr>\n",
       "    <tr>\n",
       "      <th>15717</th>\n",
       "      <td>The Dharma Bums</td>\n",
       "      <td>39.95</td>\n",
       "      <td>3/3</td>\n",
       "      <td>The Sad, Beautiful, Joyful World of Jack Kerouac</td>\n",
       "      <td>Jack Kerouac was intensely alive and his fiery...</td>\n",
       "      <td>THE DHARMA BUMS appeared just one year after t...</td>\n",
       "      <td>'Jack Kerouac'</td>\n",
       "      <td>'Fiction'</td>\n",
       "      <td>Popular</td>\n",
       "    </tr>\n",
       "    <tr>\n",
       "      <th>15718</th>\n",
       "      <td>Palomino</td>\n",
       "      <td>7.99</td>\n",
       "      <td>0/0</td>\n",
       "      <td>\"Palomino\"</td>\n",
       "      <td>This is an older novel of Danielle Steele's, a...</td>\n",
       "      <td>Samantha Taylor is shattered when her husband ...</td>\n",
       "      <td>'Danielle Steel'</td>\n",
       "      <td>'Fiction'</td>\n",
       "      <td>Popular</td>\n",
       "    </tr>\n",
       "  </tbody>\n",
       "</table>\n",
       "</div>"
      ],
      "text/plain": [
       "                                                   title  price  \\\n",
       "15714  Attack of the Deranged Mutant Killer Monster S...   7.64   \n",
       "15715                                         Book Savvy  33.99   \n",
       "15716  Organizing to Win: New Research on Union Strat...  24.95   \n",
       "15717                                    The Dharma Bums  39.95   \n",
       "15718                                           Palomino   7.99   \n",
       "\n",
       "      review/helpfulness                                    review/summary  \\\n",
       "15714                0/0                           Great for Calvin lovers   \n",
       "15715                2/2                                 literary pleasure   \n",
       "15716                3/4                  Great Book for Union Organizers!   \n",
       "15717                3/3  The Sad, Beautiful, Joyful World of Jack Kerouac   \n",
       "15718                0/0                                        \"Palomino\"   \n",
       "\n",
       "                                             review/text  \\\n",
       "15714  Bought as a Christmas gift, great book for kin...   \n",
       "15715  I thoroughly enjoyed Ms. Katona's Book Savvy. ...   \n",
       "15716  This is a good reference tool for Union Organi...   \n",
       "15717  Jack Kerouac was intensely alive and his fiery...   \n",
       "15718  This is an older novel of Danielle Steele's, a...   \n",
       "\n",
       "                                             description  \\\n",
       "15714              Online: gocomics.com/calvinandhobbes/   \n",
       "15715  Recounts the adventures of Mibs Beaumont, whos...   \n",
       "15716  As the American labour movement mobilizes for ...   \n",
       "15717  THE DHARMA BUMS appeared just one year after t...   \n",
       "15718  Samantha Taylor is shattered when her husband ...   \n",
       "\n",
       "                                                 authors  \\\n",
       "15714                                   'Bill Watterson'   \n",
       "15715                                       'Ingrid Law'   \n",
       "15716  'Kate Bronfenbrenner', 'Sheldon Friedman', 'Ri...   \n",
       "15717                                     'Jack Kerouac'   \n",
       "15718                                   'Danielle Steel'   \n",
       "\n",
       "                      categories popularity  \n",
       "15714  'Comics & Graphic Novels'  Unpopular  \n",
       "15715         'Juvenile Fiction'    Popular  \n",
       "15716     'Business & Economics'    Popular  \n",
       "15717                  'Fiction'    Popular  \n",
       "15718                  'Fiction'    Popular  "
      ]
     },
     "execution_count": 10,
     "metadata": {},
     "output_type": "execute_result"
    }
   ],
   "source": [
    "books.tail()"
   ]
  },
  {
   "cell_type": "markdown",
   "id": "e85e6579-c1d1-4701-b7ef-577262aa3abb",
   "metadata": {},
   "source": [
    "# Exploratory Data Analysis "
   ]
  },
  {
   "cell_type": "code",
   "execution_count": 12,
   "id": "b461031e-7db5-4ba0-982e-f1f656db4ae5",
   "metadata": {
    "executionCancelledAt": null,
    "executionTime": 53,
    "lastExecutedAt": 1745501165766,
    "lastExecutedByKernel": "880d8ddc-8443-4dfe-90e6-6ac656048a23",
    "lastScheduledRunId": null,
    "lastSuccessfullyExecutedCode": "print(books.describe())",
    "outputsMetadata": {
     "0": {
      "height": 206,
      "type": "stream"
     }
    }
   },
   "outputs": [
    {
     "name": "stdout",
     "output_type": "stream",
     "text": [
      "              price\n",
      "count  15719.000000\n",
      "mean      15.862783\n",
      "std        8.464523\n",
      "min        1.000000\n",
      "25%       10.190000\n",
      "50%       13.570000\n",
      "75%       19.950000\n",
      "max       41.770000\n"
     ]
    }
   ],
   "source": [
    "print(books.describe())"
   ]
  },
  {
   "cell_type": "code",
   "execution_count": 13,
   "id": "6f81569e-2a2d-40e3-af03-22cfb9930520",
   "metadata": {
    "executionCancelledAt": null,
    "executionTime": 68,
    "lastExecutedAt": 1745501165834,
    "lastExecutedByKernel": "880d8ddc-8443-4dfe-90e6-6ac656048a23",
    "lastScheduledRunId": null,
    "lastSuccessfullyExecutedCode": "print(books.isnull().sum().sort_values(ascending=False))",
    "outputsMetadata": {
     "0": {
      "height": 227,
      "type": "stream"
     }
    }
   },
   "outputs": [
    {
     "name": "stdout",
     "output_type": "stream",
     "text": [
      "review/summary        1\n",
      "title                 0\n",
      "price                 0\n",
      "review/helpfulness    0\n",
      "review/text           0\n",
      "description           0\n",
      "authors               0\n",
      "categories            0\n",
      "popularity            0\n",
      "dtype: int64\n"
     ]
    }
   ],
   "source": [
    "print(books.isnull().sum().sort_values(ascending=False))"
   ]
  },
  {
   "cell_type": "code",
   "execution_count": 14,
   "id": "bb324869-0454-4cd9-ad8e-69f4030bd00a",
   "metadata": {},
   "outputs": [
    {
     "data": {
      "image/png": "[encoded data removed]",
      "text/plain": [
       "<Figure size 640x480 with 1 Axes>"
      ]
     },
     "metadata": {},
     "output_type": "display_data"
    }
   ],
   "source": [
    "sns.countplot(data=books, x='popularity')\n",
    "plt.xticks([0, 1], ['Unpopular (0)', 'Popular (1)'])\n",
    "plt.title('Popular vs Unpopular Book Count')\n",
    "plt.ylabel('Number of Books')\n",
    "plt.xlabel('Popularity')\n",
    "plt.show()"
   ]
  },
  {
   "cell_type": "code",
   "execution_count": 16,
   "id": "b3de2796-329c-4791-8389-5d4009493194",
   "metadata": {
    "executionCancelledAt": null,
    "executionTime": 51,
    "lastExecutedAt": 1745501165885,
    "lastExecutedByKernel": "880d8ddc-8443-4dfe-90e6-6ac656048a23",
    "lastScheduledRunId": null,
    "lastSuccessfullyExecutedCode": "# Split all authors into a flat list\nall_authors = books['authors'].dropna().apply(lambda x: [a.strip() for a in x.split(',')])\nflat_authors = [author for sublist in all_authors for author in sublist]\n\n# Count occurrences\nauthor_counts = Counter(flat_authors)\n\n# Convert to DataFrame\nauthor_df = pd.DataFrame(author_counts.items(), columns=['Author', 'Book Count'])\nauthor_df = author_df.sort_values(by='Book Count', ascending=False)\n\nprint(author_df.head(15)) \n",
    "outputsMetadata": {
     "0": {
      "height": 353,
      "type": "stream"
     }
    }
   },
   "outputs": [
    {
     "name": "stdout",
     "output_type": "stream",
     "text": [
      "                     Author  Book Count\n",
      "109      'Charlotte Brontë'         126\n",
      "51        'Charles Dickens'         109\n",
      "131   'Christopher Paolini'          90\n",
      "157         'Thomas Harris'          85\n",
      "306           'Marc Cactus'          70\n",
      "1700         'Gary Chapman'          49\n",
      "75            'Julia Quinn'          47\n",
      "1027      'Nicholas Sparks'          45\n",
      "853           'Oscar Wilde'          45\n",
      "102          'Nora Roberts'          45\n",
      "91          'Donald Miller'          45\n",
      "412     'Catherine Coulter'          43\n",
      "60            'Kate Chopin'          42\n",
      "553          'Thomas Hardy'          38\n",
      "440        'Ashley Audrain'          38\n"
     ]
    }
   ],
   "source": [
    "# Split all authors into a flat list\n",
    "all_authors = books['authors'].dropna().apply(lambda x: [a.strip() for a in x.split(',')])\n",
    "flat_authors = [author for sublist in all_authors for author in sublist]\n",
    "\n",
    "# Count occurrences\n",
    "author_counts = Counter(flat_authors)\n",
    "\n",
    "# Convert to DataFrame\n",
    "author_df = pd.DataFrame(author_counts.items(), columns=['Author', 'Book Count'])\n",
    "author_df = author_df.sort_values(by='Book Count', ascending=False)\n",
    "\n",
    "print(author_df.head(15)) \n"
   ]
  },
  {
   "cell_type": "code",
   "execution_count": 23,
   "id": "73104428-4dde-4218-8fb9-1ec0c618ed4d",
   "metadata": {
    "executionCancelledAt": null,
    "executionTime": 57,
    "lastExecutedAt": 1745501165942,
    "lastExecutedByKernel": "880d8ddc-8443-4dfe-90e6-6ac656048a23",
    "lastScheduledRunId": null,
    "lastSuccessfullyExecutedCode": "# Flatten the list of all categories\nall_categories = books['categories'].dropna().apply(lambda x: [cat.strip() for cat in x.split(',')])\nflat_categories = [cat for sublist in all_categories for cat in sublist]\n\n# Count the number of books in each category\ncategory_counts = Counter(flat_categories)\n\n# Convert to DataFrame\ncategory_df = pd.DataFrame(category_counts.items(), columns=['Category', 'Book Count'])\ncategory_df = category_df.sort_values(by='Book Count', ascending=False)\n\nprint(category_df.head(15))",
    "outputsMetadata": {
     "0": {
      "height": 353,
      "type": "stream"
     }
    }
   },
   "outputs": [
    {
     "name": "stdout",
     "output_type": "stream",
     "text": [
      "                       Category  Book Count\n",
      "10                    'Fiction'        3520\n",
      "1                    'Religion'        1053\n",
      "7   'Biography & Autobiography'         852\n",
      "11           'Juvenile Fiction'         815\n",
      "0                     'History'         754\n",
      "9        'Business & Economics'         707\n",
      "17                  'Computers'         513\n",
      "21     'Family & Relationships'         486\n",
      "18           'Health & Fitness'         414\n",
      "26                    'Cooking'         398\n",
      "3                Mind & Spirit'         360\n",
      "2                         'Body         360\n",
      "6                       'Music'         306\n",
      "40        'Juvenile Nonfiction'         280\n",
      "20                  'Self-Help'         263\n"
     ]
    }
   ],
   "source": [
    "# Flatten the list of all categories\n",
    "all_categories = books['categories'].dropna().apply(lambda x: [cat.strip() for cat in x.split(',')])\n",
    "flat_categories = [cat for sublist in all_categories for cat in sublist]\n",
    "\n",
    "# Count the number of books in each category\n",
    "category_counts = Counter(flat_categories)\n",
    "\n",
    "# Convert to DataFrame\n",
    "category_df = pd.DataFrame(category_counts.items(), columns=['Category', 'Book Count'])\n",
    "category_df = category_df.sort_values(by='Book Count', ascending=False)\n",
    "\n",
    "print(category_df.head(15))"
   ]
  },
  {
   "cell_type": "code",
   "execution_count": 24,
   "id": "bbd5a476-6b9c-4855-be21-2e9f8d021881",
   "metadata": {
    "executionCancelledAt": null,
    "executionTime": 402,
    "lastExecutedAt": 1745501166344,
    "lastExecutedByKernel": "880d8ddc-8443-4dfe-90e6-6ac656048a23",
    "lastScheduledRunId": null,
    "lastSuccessfullyExecutedCode": "# Split into helpful and total votes\nbooks[['helpful_votes', 'total_votes']] = books['review/helpfulness'].fillna(\"0/0\").str.split('/', expand=True).astype(int)\n\n# Create a helpfulness ratio (avoid division by zero)\nbooks['helpfulness_ratio'] = books.apply(\n    lambda row: row['helpful_votes'] / row['total_votes'] if row['total_votes'] > 0 else 0,\n    axis=1\n)\n\nsns.boxplot(x='popularity', y='helpfulness_ratio', data=books)\nplt.title(\"Helpfulness Ratio vs Popularity\")\nplt.show()"
   },
   "outputs": [
    {
     "data": {
      "image/png": "[encoded data removed]",
      "text/plain": [
       "<Figure size 640x480 with 1 Axes>"
      ]
     },
     "metadata": {},
     "output_type": "display_data"
    }
   ],
   "source": [
    "# Split into helpful and total votes\n",
    "books[['helpful_votes', 'total_votes']] = books['review/helpfulness'].fillna(\"0/0\").str.split('/', expand=True).astype(int)\n",
    "\n",
    "# Create a helpfulness ratio (avoid division by zero)\n",
    "books['helpfulness_ratio'] = books.apply(\n",
    "    lambda row: row['helpful_votes'] / row['total_votes'] if row['total_votes'] > 0 else 0,\n",
    "    axis=1\n",
    ")\n",
    "\n",
    "sns.boxplot(x='popularity', y='helpfulness_ratio', data=books)\n",
    "plt.title(\"Helpfulness Ratio vs Popularity\")\n",
    "plt.show()"
   ]
  },
  {
   "cell_type": "code",
   "execution_count": 28,
   "id": "c6eecae3-294e-45fc-93e5-499edfe3b44e",
   "metadata": {
    "executionCancelledAt": null,
    "executionTime": 487,
    "lastExecutedAt": 1745501166832,
    "lastExecutedByKernel": "880d8ddc-8443-4dfe-90e6-6ac656048a23",
    "lastScheduledRunId": null,
    "lastSuccessfullyExecutedCode": "sns.histplot(books['price'], bins=30, kde=True)\nplt.title('Price Distribution')\nplt.show()"
   },
   "outputs": [
    {
     "data": {
      "image/png": "[encoded data removed]",
      "text/plain": [
       "<Figure size 640x480 with 1 Axes>"
      ]
     },
     "metadata": {},
     "output_type": "display_data"
    }
   ],
   "source": [
    "sns.histplot(books['price'], bins=30, kde=True)\n",
    "plt.title('Price Distribution')\n",
    "plt.show()"
   ]
  },
  {
   "cell_type": "code",
   "execution_count": 30,
   "id": "dcaa368a-4b36-4440-90a1-3ef542e216dc",
   "metadata": {},
   "outputs": [
    {
     "data": {
      "image/png": "[encoded data removed]",
      "text/plain": [
       "<Figure size 1000x600 with 2 Axes>"
      ]
     },
     "metadata": {},
     "output_type": "display_data"
    }
   ],
   "source": [
    "numeric_cols = books.select_dtypes(include=['float64', 'int64'])\n",
    "\n",
    "# Compute correlation matrix\n",
    "corr_matrix = numeric_cols.corr()\n",
    "\n",
    "# Plot heatmap\n",
    "plt.figure(figsize=(10, 6))\n",
    "sns.heatmap(corr_matrix, annot=True, cmap='coolwarm', fmt=\".2f\")\n",
    "plt.title('Feature Correlation Heatmap')\n",
    "plt.show()"
   ]
  },
  {
   "cell_type": "markdown",
   "id": "96f67684-bcdd-433d-a23b-11dbe82358be",
   "metadata": {},
   "source": [
    "# Binary Encoding"
   ]
  },
  {
   "cell_type": "code",
   "execution_count": 34,
   "id": "4b387f39-0834-4c9b-9efd-10e2e4c2b743",
   "metadata": {
    "executionCancelledAt": null,
    "executionTime": 49,
    "lastExecutedAt": 1745501166881,
    "lastExecutedByKernel": "880d8ddc-8443-4dfe-90e6-6ac656048a23",
    "lastScheduledRunId": null,
    "lastSuccessfullyExecutedCode": "books['popularity'] = books['popularity'].map({'Popular': 1, 'Unpopular': 0})"
   },
   "outputs": [],
   "source": [
    "books['popularity'] = books['popularity'].map({'Popular': 1, 'Unpopular': 0})"
   ]
  },
  {
   "cell_type": "code",
   "execution_count": 36,
   "id": "0aadec0a-b4f5-400e-af3c-a79741d26574",
   "metadata": {},
   "outputs": [],
   "source": [
    "# Word counts from review/summary and review/text, handling NaN and non-string values\n",
    "books['summary_word_count'] = books['review/summary'].apply(lambda x: len(x.split()) if isinstance(x, str) else 0)\n",
    "books['text_word_count'] = books['review/text'].apply(lambda x: len(x.split()) if isinstance(x, str) else 0)\n",
    "\n",
    "# Number of authors\n",
    "books['num_authors'] = books['authors'].apply(lambda x: len(x.split(',')) if isinstance(x, str) else 0)\n",
    "\n",
    "# Number of categories\n",
    "books['num_categories'] = books['categories'].apply(lambda x: len(x.split(',')) if isinstance(x, str) else 0)\n",
    "\n",
    "# Build author list and count dictionary\n",
    "author_list = books['authors'].apply(lambda x: [a.strip() for a in x.split(',')] if isinstance(x, str) else [])\n",
    "flat_authors = [author for sublist in author_list for author in sublist]\n",
    "author_count = Counter(flat_authors)\n",
    "\n",
    "# Average number of books per author\n",
    "def author_avg_books(authors):\n",
    "    if not isinstance(authors, str):\n",
    "        return 0\n",
    "    authors = [a.strip() for a in authors.split(',')]\n",
    "    if len(authors) == 0:\n",
    "        return 0\n",
    "    return sum([author_count.get(a, 0) for a in authors]) / len(authors)\n",
    "\n",
    "books['author_avg_book_count'] = books['authors'].apply(author_avg_books)"
   ]
  },
  {
   "cell_type": "code",
   "execution_count": 38,
   "id": "da48a247-266a-428b-b5c5-305c3f8e3e7c",
   "metadata": {},
   "outputs": [],
   "source": [
    "# Final feature list\n",
    "features = [\n",
    "    'price', 'helpfulness_ratio', 'summary_word_count', 'text_word_count',\n",
    "    'helpful_votes', 'total_votes', 'num_authors', 'num_categories', 'author_avg_book_count'\n",
    "]\n",
    "\n",
    "X = books[features]\n",
    "y = books['popularity']"
   ]
  },
  {
   "cell_type": "code",
   "execution_count": 40,
   "id": "f1940d1f-be94-4473-b6a5-4fd18f02d3ef",
   "metadata": {},
   "outputs": [
    {
     "data": {
      "text/html": [
       "<div>\n",
       "<style scoped>\n",
       "    .dataframe tbody tr th:only-of-type {\n",
       "        vertical-align: middle;\n",
       "    }\n",
       "\n",
       "    .dataframe tbody tr th {\n",
       "        vertical-align: top;\n",
       "    }\n",
       "\n",
       "    .dataframe thead th {\n",
       "        text-align: right;\n",
       "    }\n",
       "</style>\n",
       "<table border=\"1\" class=\"dataframe\">\n",
       "  <thead>\n",
       "    <tr style=\"text-align: right;\">\n",
       "      <th></th>\n",
       "      <th>title</th>\n",
       "      <th>price</th>\n",
       "      <th>review/helpfulness</th>\n",
       "      <th>review/summary</th>\n",
       "      <th>review/text</th>\n",
       "      <th>description</th>\n",
       "      <th>authors</th>\n",
       "      <th>categories</th>\n",
       "      <th>popularity</th>\n",
       "      <th>helpful_votes</th>\n",
       "      <th>total_votes</th>\n",
       "      <th>helpfulness_ratio</th>\n",
       "      <th>summary_word_count</th>\n",
       "      <th>text_word_count</th>\n",
       "      <th>num_authors</th>\n",
       "      <th>num_categories</th>\n",
       "      <th>author_avg_book_count</th>\n",
       "    </tr>\n",
       "  </thead>\n",
       "  <tbody>\n",
       "    <tr>\n",
       "      <th>0</th>\n",
       "      <td>We Band of Angels: The Untold Story of America...</td>\n",
       "      <td>10.88</td>\n",
       "      <td>2/3</td>\n",
       "      <td>A Great Book about women in WWII</td>\n",
       "      <td>I have alway been a fan of fiction books set i...</td>\n",
       "      <td>In the fall of 1941, the Philippines was a gar...</td>\n",
       "      <td>'Elizabeth Norman'</td>\n",
       "      <td>'History'</td>\n",
       "      <td>0</td>\n",
       "      <td>2</td>\n",
       "      <td>3</td>\n",
       "      <td>0.666667</td>\n",
       "      <td>7</td>\n",
       "      <td>90</td>\n",
       "      <td>1</td>\n",
       "      <td>1</td>\n",
       "      <td>8.0</td>\n",
       "    </tr>\n",
       "    <tr>\n",
       "      <th>1</th>\n",
       "      <td>Prayer That Brings Revival: Interceding for Go...</td>\n",
       "      <td>9.35</td>\n",
       "      <td>0/0</td>\n",
       "      <td>Very helpful book for church prayer groups and...</td>\n",
       "      <td>Very helpful book to give you a better prayer ...</td>\n",
       "      <td>In Prayer That Brings Revival, best-selling au...</td>\n",
       "      <td>'Yong-gi Cho'</td>\n",
       "      <td>'Religion'</td>\n",
       "      <td>0</td>\n",
       "      <td>0</td>\n",
       "      <td>0</td>\n",
       "      <td>0.000000</td>\n",
       "      <td>13</td>\n",
       "      <td>23</td>\n",
       "      <td>1</td>\n",
       "      <td>1</td>\n",
       "      <td>2.0</td>\n",
       "    </tr>\n",
       "    <tr>\n",
       "      <th>2</th>\n",
       "      <td>The Mystical Journey from Jesus to Christ</td>\n",
       "      <td>24.95</td>\n",
       "      <td>17/19</td>\n",
       "      <td>Universal Spiritual Awakening Guide With Some ...</td>\n",
       "      <td>The message of this book is to find yourself a...</td>\n",
       "      <td>THE MYSTICAL JOURNEY FROM JESUS TO CHRIST Disc...</td>\n",
       "      <td>'Muata Ashby'</td>\n",
       "      <td>'Body, Mind &amp; Spirit'</td>\n",
       "      <td>0</td>\n",
       "      <td>17</td>\n",
       "      <td>19</td>\n",
       "      <td>0.894737</td>\n",
       "      <td>9</td>\n",
       "      <td>1174</td>\n",
       "      <td>1</td>\n",
       "      <td>2</td>\n",
       "      <td>3.0</td>\n",
       "    </tr>\n",
       "    <tr>\n",
       "      <th>3</th>\n",
       "      <td>Death Row</td>\n",
       "      <td>7.99</td>\n",
       "      <td>0/1</td>\n",
       "      <td>Ben Kincaid tries to stop an execution.</td>\n",
       "      <td>The hero of William Bernhardt's Ben Kincaid no...</td>\n",
       "      <td>Upon receiving his execution date, one of the ...</td>\n",
       "      <td>'Lynden Harris'</td>\n",
       "      <td>'Social Science'</td>\n",
       "      <td>0</td>\n",
       "      <td>0</td>\n",
       "      <td>1</td>\n",
       "      <td>0.000000</td>\n",
       "      <td>7</td>\n",
       "      <td>370</td>\n",
       "      <td>1</td>\n",
       "      <td>1</td>\n",
       "      <td>1.0</td>\n",
       "    </tr>\n",
       "    <tr>\n",
       "      <th>4</th>\n",
       "      <td>Sound and Form in Modern Poetry: Second Editio...</td>\n",
       "      <td>32.50</td>\n",
       "      <td>18/20</td>\n",
       "      <td>good introduction to modern prosody</td>\n",
       "      <td>There's a lot in this book which the reader wi...</td>\n",
       "      <td>An updated and expanded version of a classic a...</td>\n",
       "      <td>'Harvey Seymour Gross', 'Robert McDowell'</td>\n",
       "      <td>'Poetry'</td>\n",
       "      <td>0</td>\n",
       "      <td>18</td>\n",
       "      <td>20</td>\n",
       "      <td>0.900000</td>\n",
       "      <td>5</td>\n",
       "      <td>341</td>\n",
       "      <td>2</td>\n",
       "      <td>1</td>\n",
       "      <td>2.0</td>\n",
       "    </tr>\n",
       "  </tbody>\n",
       "</table>\n",
       "</div>"
      ],
      "text/plain": [
       "                                               title  price  \\\n",
       "0  We Band of Angels: The Untold Story of America...  10.88   \n",
       "1  Prayer That Brings Revival: Interceding for Go...   9.35   \n",
       "2          The Mystical Journey from Jesus to Christ  24.95   \n",
       "3                                          Death Row   7.99   \n",
       "4  Sound and Form in Modern Poetry: Second Editio...  32.50   \n",
       "\n",
       "  review/helpfulness                                     review/summary  \\\n",
       "0                2/3                   A Great Book about women in WWII   \n",
       "1                0/0  Very helpful book for church prayer groups and...   \n",
       "2              17/19  Universal Spiritual Awakening Guide With Some ...   \n",
       "3                0/1            Ben Kincaid tries to stop an execution.   \n",
       "4              18/20                good introduction to modern prosody   \n",
       "\n",
       "                                         review/text  \\\n",
       "0  I have alway been a fan of fiction books set i...   \n",
       "1  Very helpful book to give you a better prayer ...   \n",
       "2  The message of this book is to find yourself a...   \n",
       "3  The hero of William Bernhardt's Ben Kincaid no...   \n",
       "4  There's a lot in this book which the reader wi...   \n",
       "\n",
       "                                         description  \\\n",
       "0  In the fall of 1941, the Philippines was a gar...   \n",
       "1  In Prayer That Brings Revival, best-selling au...   \n",
       "2  THE MYSTICAL JOURNEY FROM JESUS TO CHRIST Disc...   \n",
       "3  Upon receiving his execution date, one of the ...   \n",
       "4  An updated and expanded version of a classic a...   \n",
       "\n",
       "                                     authors             categories  \\\n",
       "0                         'Elizabeth Norman'              'History'   \n",
       "1                              'Yong-gi Cho'             'Religion'   \n",
       "2                              'Muata Ashby'  'Body, Mind & Spirit'   \n",
       "3                            'Lynden Harris'       'Social Science'   \n",
       "4  'Harvey Seymour Gross', 'Robert McDowell'               'Poetry'   \n",
       "\n",
       "   popularity  helpful_votes  total_votes  helpfulness_ratio  \\\n",
       "0           0              2            3           0.666667   \n",
       "1           0              0            0           0.000000   \n",
       "2           0             17           19           0.894737   \n",
       "3           0              0            1           0.000000   \n",
       "4           0             18           20           0.900000   \n",
       "\n",
       "   summary_word_count  text_word_count  num_authors  num_categories  \\\n",
       "0                   7               90            1               1   \n",
       "1                  13               23            1               1   \n",
       "2                   9             1174            1               2   \n",
       "3                   7              370            1               1   \n",
       "4                   5              341            2               1   \n",
       "\n",
       "   author_avg_book_count  \n",
       "0                    8.0  \n",
       "1                    2.0  \n",
       "2                    3.0  \n",
       "3                    1.0  \n",
       "4                    2.0  "
      ]
     },
     "execution_count": 40,
     "metadata": {},
     "output_type": "execute_result"
    }
   ],
   "source": [
    "books.head()"
   ]
  },
  {
   "cell_type": "code",
   "execution_count": 42,
   "id": "19dbae19-ffd4-4d6e-b753-7ebeb3986909",
   "metadata": {},
   "outputs": [
    {
     "data": {
      "text/html": [
       "<div>\n",
       "<style scoped>\n",
       "    .dataframe tbody tr th:only-of-type {\n",
       "        vertical-align: middle;\n",
       "    }\n",
       "\n",
       "    .dataframe tbody tr th {\n",
       "        vertical-align: top;\n",
       "    }\n",
       "\n",
       "    .dataframe thead th {\n",
       "        text-align: right;\n",
       "    }\n",
       "</style>\n",
       "<table border=\"1\" class=\"dataframe\">\n",
       "  <thead>\n",
       "    <tr style=\"text-align: right;\">\n",
       "      <th></th>\n",
       "      <th>price</th>\n",
       "      <th>helpfulness_ratio</th>\n",
       "      <th>summary_word_count</th>\n",
       "      <th>text_word_count</th>\n",
       "      <th>helpful_votes</th>\n",
       "      <th>total_votes</th>\n",
       "      <th>num_authors</th>\n",
       "      <th>num_categories</th>\n",
       "      <th>author_avg_book_count</th>\n",
       "    </tr>\n",
       "  </thead>\n",
       "  <tbody>\n",
       "    <tr>\n",
       "      <th>0</th>\n",
       "      <td>10.88</td>\n",
       "      <td>0.666667</td>\n",
       "      <td>7</td>\n",
       "      <td>90</td>\n",
       "      <td>2</td>\n",
       "      <td>3</td>\n",
       "      <td>1</td>\n",
       "      <td>1</td>\n",
       "      <td>8.0</td>\n",
       "    </tr>\n",
       "    <tr>\n",
       "      <th>1</th>\n",
       "      <td>9.35</td>\n",
       "      <td>0.000000</td>\n",
       "      <td>13</td>\n",
       "      <td>23</td>\n",
       "      <td>0</td>\n",
       "      <td>0</td>\n",
       "      <td>1</td>\n",
       "      <td>1</td>\n",
       "      <td>2.0</td>\n",
       "    </tr>\n",
       "    <tr>\n",
       "      <th>2</th>\n",
       "      <td>24.95</td>\n",
       "      <td>0.894737</td>\n",
       "      <td>9</td>\n",
       "      <td>1174</td>\n",
       "      <td>17</td>\n",
       "      <td>19</td>\n",
       "      <td>1</td>\n",
       "      <td>2</td>\n",
       "      <td>3.0</td>\n",
       "    </tr>\n",
       "    <tr>\n",
       "      <th>3</th>\n",
       "      <td>7.99</td>\n",
       "      <td>0.000000</td>\n",
       "      <td>7</td>\n",
       "      <td>370</td>\n",
       "      <td>0</td>\n",
       "      <td>1</td>\n",
       "      <td>1</td>\n",
       "      <td>1</td>\n",
       "      <td>1.0</td>\n",
       "    </tr>\n",
       "    <tr>\n",
       "      <th>4</th>\n",
       "      <td>32.50</td>\n",
       "      <td>0.900000</td>\n",
       "      <td>5</td>\n",
       "      <td>341</td>\n",
       "      <td>18</td>\n",
       "      <td>20</td>\n",
       "      <td>2</td>\n",
       "      <td>1</td>\n",
       "      <td>2.0</td>\n",
       "    </tr>\n",
       "  </tbody>\n",
       "</table>\n",
       "</div>"
      ],
      "text/plain": [
       "   price  helpfulness_ratio  summary_word_count  text_word_count  \\\n",
       "0  10.88           0.666667                   7               90   \n",
       "1   9.35           0.000000                  13               23   \n",
       "2  24.95           0.894737                   9             1174   \n",
       "3   7.99           0.000000                   7              370   \n",
       "4  32.50           0.900000                   5              341   \n",
       "\n",
       "   helpful_votes  total_votes  num_authors  num_categories  \\\n",
       "0              2            3            1               1   \n",
       "1              0            0            1               1   \n",
       "2             17           19            1               2   \n",
       "3              0            1            1               1   \n",
       "4             18           20            2               1   \n",
       "\n",
       "   author_avg_book_count  \n",
       "0                    8.0  \n",
       "1                    2.0  \n",
       "2                    3.0  \n",
       "3                    1.0  \n",
       "4                    2.0  "
      ]
     },
     "execution_count": 42,
     "metadata": {},
     "output_type": "execute_result"
    }
   ],
   "source": [
    "X.head()"
   ]
  },
  {
   "cell_type": "code",
   "execution_count": 44,
   "id": "8790af7a-4c88-4d18-8336-de539f385e82",
   "metadata": {},
   "outputs": [
    {
     "data": {
      "text/plain": [
       "0    0\n",
       "1    0\n",
       "2    0\n",
       "3    0\n",
       "4    0\n",
       "Name: popularity, dtype: int64"
      ]
     },
     "execution_count": 44,
     "metadata": {},
     "output_type": "execute_result"
    }
   ],
   "source": [
    "y.head()"
   ]
  },
  {
   "cell_type": "markdown",
   "id": "5420b3f0-2d0f-4638-a654-9d5badb155a2",
   "metadata": {
    "executionCancelledAt": null,
    "executionTime": 46,
    "lastExecutedAt": 1745501169274,
    "lastExecutedByKernel": "880d8ddc-8443-4dfe-90e6-6ac656048a23",
    "lastScheduledRunId": null,
    "lastSuccessfullyExecutedCode": ""
   },
   "source": [
    "# Logistic Regression"
   ]
  },
  {
   "cell_type": "code",
   "execution_count": 47,
   "id": "25fe00ca-cae9-4fe0-b862-bc792f46f310",
   "metadata": {},
   "outputs": [],
   "source": [
    "X_train, X_test, y_train, y_test = train_test_split(X, y, test_size=0.2, random_state=42)\n",
    "\n",
    "scaler = StandardScaler()\n",
    "X_train_scaled = scaler.fit_transform(X_train)\n",
    "X_test_scaled = scaler.transform(X_test)"
   ]
  },
  {
   "cell_type": "code",
   "execution_count": 49,
   "id": "57736e28-da30-41f5-9fa4-1d4fae307a81",
   "metadata": {},
   "outputs": [
    {
     "name": "stdout",
     "output_type": "stream",
     "text": [
      "Accuracy: 0.6723918575063613\n",
      "              precision    recall  f1-score   support\n",
      "\n",
      "           0       0.67      0.99      0.80      2112\n",
      "           1       0.53      0.02      0.03      1032\n",
      "\n",
      "    accuracy                           0.67      3144\n",
      "   macro avg       0.60      0.50      0.42      3144\n",
      "weighted avg       0.63      0.67      0.55      3144\n",
      "\n"
     ]
    }
   ],
   "source": [
    "logreg = LogisticRegression(random_state=42)\n",
    "logreg.fit(X_train_scaled, y_train)\n",
    "\n",
    "y_pred = logreg.predict(X_test_scaled)\n",
    "\n",
    "print(\"Accuracy:\", accuracy_score(y_test, y_pred))\n",
    "print(classification_report(y_test, y_pred))\n"
   ]
  },
  {
   "cell_type": "markdown",
   "id": "082bdb80-5fdc-4bf1-98df-0630ac4b31ea",
   "metadata": {},
   "source": [
    "# Random Forest Classifier"
   ]
  },
  {
   "cell_type": "code",
   "execution_count": 52,
   "id": "d1c6a924-7630-4141-ab55-6ffbbf57d5c9",
   "metadata": {
    "executionCancelledAt": null,
    "executionTime": 1859,
    "lastExecutedAt": 1745501168956,
    "lastExecutedByKernel": "880d8ddc-8443-4dfe-90e6-6ac656048a23",
    "lastScheduledRunId": null,
    "lastSuccessfullyExecutedCode": "# Final feature list\nfeatures = [\n    'price', 'helpfulness_ratio', 'summary_word_count', 'text_word_count',\n    'helpful_votes', 'total_votes', 'num_authors', 'num_categories', 'author_avg_book_count'\n]\n\nX = books[features]\ny = books['popularity']\n\n# Train-test split\nX_train, X_test, y_train, y_test = train_test_split(X, y, test_size=0.2, random_state=42)\n\n# Model\nmodel = RandomForestClassifier(random_state=42)\nmodel.fit(X_train, y_train)\n\n# Evaluate\ny_pred = model.predict(X_test)\n\nmodel_accuracy = accuracy_score(y_test, y_pred)\nprint(\"Accuracy:\", model_accuracy)\nprint(classification_report(y_test, y_pred))\n",
    "outputsMetadata": {
     "0": {
      "height": 227,
      "type": "stream"
     }
    }
   },
   "outputs": [
    {
     "name": "stdout",
     "output_type": "stream",
     "text": [
      "Accuracy: 0.7153307888040712\n",
      "              precision    recall  f1-score   support\n",
      "\n",
      "           0       0.74      0.88      0.81      2112\n",
      "           1       0.60      0.39      0.47      1032\n",
      "\n",
      "    accuracy                           0.72      3144\n",
      "   macro avg       0.67      0.63      0.64      3144\n",
      "weighted avg       0.70      0.72      0.70      3144\n",
      "\n"
     ]
    }
   ],
   "source": [
    "# Train-test split\n",
    "X_train, X_test, y_train, y_test = train_test_split(X, y, test_size=0.2, random_state=42)\n",
    "\n",
    "# Model\n",
    "model = RandomForestClassifier(random_state=42)\n",
    "model.fit(X_train, y_train)\n",
    "\n",
    "# Evaluate\n",
    "y_pred = model.predict(X_test)\n",
    "\n",
    "model_accuracy = accuracy_score(y_test, y_pred)\n",
    "print(\"Accuracy:\", model_accuracy)\n",
    "print(classification_report(y_test, y_pred))\n"
   ]
  },
  {
   "cell_type": "code",
   "execution_count": 53,
   "id": "c9af9354-b078-40be-a86d-8b986a2b80db",
   "metadata": {
    "executionCancelledAt": null,
    "executionTime": 271,
    "lastExecutedAt": 1745501169227,
    "lastExecutedByKernel": "880d8ddc-8443-4dfe-90e6-6ac656048a23",
    "lastScheduledRunId": null,
    "lastSuccessfullyExecutedCode": "importances = model.feature_importances_\nfeature_names = X.columns\nfeat_df = pd.DataFrame({'Feature': feature_names, 'Importance': importances})\nfeat_df = feat_df.sort_values(by='Importance', ascending=False)\n\nsns.barplot(x='Importance', y='Feature', data=feat_df)\nplt.title('Feature Importance')\nplt.show()\n"
   },
   "outputs": [
    {
     "data": {
      "image/png": "[encoded data removed]",
      "text/plain": [
       "<Figure size 640x480 with 1 Axes>"
      ]
     },
     "metadata": {},
     "output_type": "display_data"
    }
   ],
   "source": [
    "importances = model.feature_importances_\n",
    "feature_names = X.columns\n",
    "feat_df = pd.DataFrame({'Feature': feature_names, 'Importance': importances})\n",
    "feat_df = feat_df.sort_values(by='Importance', ascending=False)\n",
    "\n",
    "sns.barplot(x='Importance', y='Feature', data=feat_df)\n",
    "plt.title('Feature Importance')\n",
    "plt.show()\n"
   ]
  },
  {
   "cell_type": "markdown",
   "id": "c70624ec-9880-4e82-8b46-7b380106e2a5",
   "metadata": {
    "executionCancelledAt": null,
    "executionTime": 49,
    "lastExecutedAt": 1745501375225,
    "lastExecutedByKernel": "880d8ddc-8443-4dfe-90e6-6ac656048a23",
    "lastScheduledRunId": null,
    "lastSuccessfullyExecutedCode": "",
    "outputsMetadata": {
     "0": {
      "height": 353,
      "type": "stream"
     },
     "2": {
      "height": 269,
      "type": "stream"
     }
    }
   },
   "source": [
    "# XGBoost"
   ]
  },
  {
   "cell_type": "code",
   "execution_count": 55,
   "id": "1329e7f2-3a14-477e-84f0-99c746c5df5d",
   "metadata": {
    "executionCancelledAt": null,
    "executionTime": 47,
    "lastExecutedAt": 1745501169813,
    "lastExecutedByKernel": "880d8ddc-8443-4dfe-90e6-6ac656048a23",
    "lastScheduledRunId": null,
    "lastSuccessfullyExecutedCode": ""
   },
   "outputs": [
    {
     "name": "stderr",
     "output_type": "stream",
     "text": [
      "/opt/anaconda3/lib/python3.12/site-packages/xgboost/training.py:183: UserWarning: [14:34:47] WARNING: /Users/runner/work/xgboost/xgboost/src/learner.cc:738: \n",
      "Parameters: { \"use_label_encoder\" } are not used.\n",
      "\n",
      "  bst.update(dtrain, iteration=i, fobj=obj)\n"
     ]
    },
    {
     "name": "stdout",
     "output_type": "stream",
     "text": [
      "XGBoost Results:\n",
      "              precision    recall  f1-score   support\n",
      "\n",
      "           0       0.81      0.91      0.86      2112\n",
      "           1       0.75      0.57      0.64      1032\n",
      "\n",
      "    accuracy                           0.79      3144\n",
      "   macro avg       0.78      0.74      0.75      3144\n",
      "weighted avg       0.79      0.79      0.79      3144\n",
      "\n"
     ]
    }
   ],
   "source": [
    "# Features\n",
    "numeric_features = [\n",
    "    'price', 'helpful_votes', 'total_votes', 'helpfulness_ratio',\n",
    "    'summary_word_count', 'text_word_count', 'num_authors',\n",
    "    'num_categories', 'author_avg_book_count'\n",
    "]\n",
    "\n",
    "text_features = ['review/summary', 'review/text', 'description']\n",
    "\n",
    "books['review/summary'] = books['review/summary'].fillna('')\n",
    "books['review/text'] = books['review/text'].fillna('')\n",
    "books['description'] = books['description'].fillna('')\n",
    "\n",
    "\n",
    "# Preprocessing\n",
    "numeric_transformer = StandardScaler()\n",
    "text_transformer = TfidfVectorizer(max_features=500)\n",
    "\n",
    "preprocessor = ColumnTransformer(\n",
    "    transformers=[\n",
    "        ('num', numeric_transformer, numeric_features),\n",
    "        ('text_summary', text_transformer, 'review/summary'),\n",
    "        ('text_review', text_transformer, 'review/text'),\n",
    "        ('text_desc', text_transformer, 'description'),\n",
    "    ]\n",
    ")\n",
    "\n",
    "# Build the pipeline\n",
    "clf = make_pipeline(\n",
    "    preprocessor,\n",
    "    xgb.XGBClassifier(use_label_encoder=False, eval_metric='logloss', random_state=42)\n",
    ")\n",
    "\n",
    "# Prepare data\n",
    "X = books[numeric_features + text_features]\n",
    "y = books['popularity']\n",
    "\n",
    "X_train, X_test, y_train, y_test = train_test_split(X, y, test_size=0.2, random_state=42)\n",
    "\n",
    "# Train\n",
    "clf.fit(X_train, y_train)\n",
    "\n",
    "# Predict\n",
    "y_pred = clf.predict(X_test)\n",
    "\n",
    "# Evaluate\n",
    "print(\"XGBoost Results:\")\n",
    "print(classification_report(y_test, y_pred))\n"
   ]
  },
  {
   "cell_type": "code",
   "execution_count": 56,
   "id": "4364c9ea-eecc-4a25-8f44-ed2dbd2a70a7",
   "metadata": {
    "executionCancelledAt": null,
    "executionTime": 50,
    "lastExecutedAt": 1745501169766,
    "lastExecutedByKernel": "880d8ddc-8443-4dfe-90e6-6ac656048a23",
    "lastScheduledRunId": null,
    "lastSuccessfullyExecutedCode": ""
   },
   "outputs": [
    {
     "name": "stdout",
     "output_type": "stream",
     "text": [
      "Accuracy: 79.48%\n"
     ]
    }
   ],
   "source": [
    "# Calculate accuracy\n",
    "accuracy = accuracy_score(y_test, y_pred)\n",
    "\n",
    "# Print the accuracy\n",
    "print(f'Accuracy: {accuracy * 100:.2f}%')"
   ]
  }
 ],
 "metadata": {
  "colab": {
   "name": "Welcome to DataCamp Workspaces.ipynb",
   "provenance": []
  },
  "editor": "DataLab",
  "kernelspec": {
   "display_name": "Python [conda env:base] *",
   "language": "python",
   "name": "conda-base-py"
  },
  "language_info": {
   "codemirror_mode": {
    "name": "ipython",
    "version": 3
   },
   "file_extension": ".py",
   "mimetype": "text/x-python",
   "name": "python",
   "nbconvert_exporter": "python",
   "pygments_lexer": "ipython3",
   "version": "3.12.7"
  }
 },
 "nbformat": 4,
 "nbformat_minor": 5
}
